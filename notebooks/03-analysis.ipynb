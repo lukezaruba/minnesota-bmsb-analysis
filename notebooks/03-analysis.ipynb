{
 "cells": [
  {
   "attachments": {},
   "cell_type": "markdown",
   "metadata": {},
   "source": [
    "# Minnesota BMSB Analysis: `Modeling & Simulation`\n",
    "##### Contributors: *Luke Zaruba*, *Mattie Gisselbeck*\n",
    "##### Last Updated: 2023-04-20\n",
    "\n",
    "In this notebook, BMSB spread is modelled through the use of Monte Carlo Simulation and a Huff (gravity) model."
   ]
  },
  {
   "cell_type": "code",
   "execution_count": 4,
   "metadata": {},
   "outputs": [],
   "source": [
    "# Import Packages\n",
    "import os\n",
    "import sys\n",
    "\n",
    "import arcgis\n",
    "import arcpy\n",
    "import pandas as pd\n",
    "\n",
    "# Append Path & Import Model/Database Modules\n",
    "sys.path.append(\"..\")\n",
    "\n",
    "from bmsb.model import Simulation\n",
    "from bmsb.db import Database"
   ]
  },
  {
   "attachments": {},
   "cell_type": "markdown",
   "metadata": {},
   "source": [
    "### Generate Distance Lags & Export to CSVs"
   ]
  },
  {
   "cell_type": "code",
   "execution_count": 7,
   "metadata": {},
   "outputs": [
    {
     "data": {
      "text/html": [
       "<div class='gpresult'><h2>Messages</h2><div id='messages' data-messages='[\"Start Time: Thursday, April 20, 2023 4:14:06 PM\",\"Succeeded at Thursday, April 20, 2023 4:19:12 PM (Elapsed Time: 5 minutes 6 seconds)\"]' data-show='true'><div id = 'default' /></div></div>"
      ],
      "text/plain": [
       "<Result 'C:\\\\gitFiles\\\\minnesota-bmsb-analysis\\\\data\\\\gdb\\\\bmsb_analysis.gdb\\\\distances'>"
      ]
     },
     "execution_count": 7,
     "metadata": {},
     "output_type": "execute_result"
    }
   ],
   "source": [
    "# Path to FC with Aggregated Data\n",
    "full_gdb_path = r\"C:\\gitFiles\\minnesota-bmsb-analysis\\data\\gdb\\bmsb_analysis.gdb\"\n",
    "\n",
    "# Calculate Lags\n",
    "arcpy.analysis.GenerateOriginDestinationLinks(\n",
    "    os.path.join(full_gdb_path, \"cities_attributed\"),\n",
    "    os.path.join(full_gdb_path, \"cities_attributed\"),\n",
    "    os.path.join(full_gdb_path, \"distances\"),\n",
    "    num_nearest=100,\n",
    "    distance_unit=\"MILES\"\n",
    ")"
   ]
  },
  {
   "cell_type": "code",
   "execution_count": 9,
   "metadata": {},
   "outputs": [
    {
     "data": {
      "text/html": [
       "<div class='gpresult'><h2>Messages</h2><div id='messages' data-messages='[\"Start Time: Thursday, April 20, 2023 4:26:47 PM\",\"Succeeded at Thursday, April 20, 2023 4:26:47 PM (Elapsed Time: 0.18 seconds)\"]' data-show='true'><div id = 'default' /></div></div>"
      ],
      "text/plain": [
       "<Result 'C:\\\\gitFiles\\\\minnesota-bmsb-analysis\\\\data\\\\model\\\\cities.csv'>"
      ]
     },
     "execution_count": 9,
     "metadata": {},
     "output_type": "execute_result"
    }
   ],
   "source": [
    "# Path to Output Folder\n",
    "output_dir = r\"C:\\gitFiles\\minnesota-bmsb-analysis\\data\\model\"\n",
    "\n",
    "if not os.path.exists(output_dir):\n",
    "    os.mkdir(output_dir)\n",
    "\n",
    "# Export Lags to CSVs\n",
    "arcpy.conversion.ExportTable(\n",
    "    os.path.join(full_gdb_path, \"distances\"),\n",
    "    os.path.join(output_dir, \"distances.csv\"),\n",
    "    field_mapping='Shape_Length \"Shape_Length\" false true true 8 Double 0 0,First,#,distances,Shape_Length,-1,-1;ORIG_FID \"ORIG_FID\" true true false 4 Long 0 0,First,#,distances,ORIG_FID,-1,-1;DEST_FID \"DEST_FID\" true true false 4 Long 0 0,First,#,distances,DEST_FID,-1,-1;LINK_DIST \"LINK_DIST\" true true false 8 Double 0 0,First,#,distances,LINK_DIST,-1,-1',\n",
    ")\n",
    "\n",
    "# Export Cities to CSV\n",
    "arcpy.conversion.ExportTable(\n",
    "    os.path.join(full_gdb_path, \"cities_attributed\"),\n",
    "    os.path.join(output_dir, \"cities.csv\"),\n",
    ")"
   ]
  }
 ],
 "metadata": {
  "kernelspec": {
   "display_name": "Python 3",
   "language": "python",
   "name": "python3"
  },
  "language_info": {
   "codemirror_mode": {
    "name": "ipython",
    "version": 3
   },
   "file_extension": ".py",
   "mimetype": "text/x-python",
   "name": "python",
   "nbconvert_exporter": "python",
   "pygments_lexer": "ipython3",
   "version": "3.9.16"
  },
  "orig_nbformat": 4
 },
 "nbformat": 4,
 "nbformat_minor": 2
}
