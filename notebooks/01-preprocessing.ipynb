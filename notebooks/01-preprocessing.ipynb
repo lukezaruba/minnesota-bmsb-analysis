{
 "cells": [
  {
   "attachments": {},
   "cell_type": "markdown",
   "metadata": {},
   "source": [
    "# Minnesota BMSB Analysis: `Preprocessing`\n",
    "##### Contributors: *Luke Zaruba*, *Mattie Gisselbeck*\n",
    "##### Last Updated: 2023-04-19\n",
    "\n",
    "In this notebook, an automated ETL pipeline is implemented to process and clean data for analysis. Before running this notebook, the `extract_data.ps1` script should be run to download several of the datasets needed."
   ]
  },
  {
   "cell_type": "code",
   "execution_count": 7,
   "metadata": {},
   "outputs": [],
   "source": [
    "# Import Packages\n",
    "import os\n",
    "import sys\n",
    "\n",
    "import arcgis\n",
    "import arcpy\n",
    "import pandas as pd\n",
    "\n",
    "# Append Path & Import ETL Module\n",
    "sys.path.append(\"..\")\n",
    "\n",
    "from bmsb.etl import WeatherLoader, ObservationLoader"
   ]
  },
  {
   "cell_type": "code",
   "execution_count": 26,
   "metadata": {},
   "outputs": [
    {
     "name": "stdout",
     "output_type": "stream",
     "text": [
      "Directory & GDB already exist at:  C:\\gitFiles\\minnesota-bmsb-analysis\\data\\gdb\\bmsb_analysis.gdb\n"
     ]
    }
   ],
   "source": [
    "# Set up Workspace\n",
    "gdb_directory = r\"C:\\gitFiles\\minnesota-bmsb-analysis\\data\\gdb\"\n",
    "gdb_name = \"bmsb_analysis\"\n",
    "full_gdb_path = os.path.join(gdb_directory, f\"{gdb_name}.gdb\")\n",
    "\n",
    "# Check if GDB Folder Exists\n",
    "if not os.path.exists(gdb_directory):\n",
    "    os.mkdir(gdb_directory)\n",
    "    arcpy.management.CreateFileGDB(gdb_directory, gdb_name)\n",
    "    \n",
    "    print(\"Directory & GDB created\")\n",
    "\n",
    "# Check if GDB Exists (if folder exists)\n",
    "else:\n",
    "    if not os.path.exists(full_gdb_path):\n",
    "        arcpy.management.CreateFileGDB(gdb_directory, gdb_name)\n",
    "        \n",
    "        print(\"Directory exists, GDB created\")\n",
    "        \n",
    "    else:\n",
    "        print(\"Directory & GDB already exist at: \", full_gdb_path)"
   ]
  },
  {
   "cell_type": "code",
   "execution_count": 27,
   "metadata": {},
   "outputs": [],
   "source": [
    "# Set up Path Vars of Downloaded Datasets\n",
    "cities_shp = r\"C:\\gitFiles\\minnesota-bmsb-analysis\\data\\cities\\city_township_unorg.shp\"\n",
    "elevation_gdb_rast = r\"C:\\gitFiles\\minnesota-bmsb-analysis\\data\\elevation\\elev_30m_digital_elevation_model.gdb\\digital_elevation_model_30m\"\n",
    "landcover_tiff = r\"C:\\gitFiles\\minnesota-bmsb-analysis\\data\\landcover\\NLCD_2019_Land_Cover.tif\""
   ]
  },
  {
   "attachments": {},
   "cell_type": "markdown",
   "metadata": {},
   "source": [
    "### Rasters"
   ]
  },
  {
   "cell_type": "code",
   "execution_count": 28,
   "metadata": {},
   "outputs": [
    {
     "data": {
      "text/html": [
       "<div class='gpresult'><h2>Messages</h2><div id='messages' data-messages='[\"Start Time: Wednesday, April 19, 2023 7:21:46 PM\",\"Building Pyramids...\",\"Calculating Statistics...\",\"Succeeded at Wednesday, April 19, 2023 7:22:12 PM (Elapsed Time: 26.08 seconds)\"]' data-show='true'><div id = 'default' /></div></div>"
      ],
      "text/plain": [
       "<Result 'C:\\\\gitFiles\\\\minnesota-bmsb-analysis\\\\data\\\\gdb\\\\bmsb_analysis.gdb\\\\elevation'>"
      ]
     },
     "execution_count": 28,
     "metadata": {},
     "output_type": "execute_result"
    }
   ],
   "source": [
    "# Load Elevation to GDB\n",
    "arcpy.management.CopyRaster(elevation_gdb_rast, os.path.join(full_gdb_path, \"elevation\"))"
   ]
  },
  {
   "cell_type": "code",
   "execution_count": 29,
   "metadata": {},
   "outputs": [
    {
     "data": {
      "text/html": [
       "<div class='gpresult'><h2>Messages</h2><div id='messages' data-messages='[\"Start Time: Wednesday, April 19, 2023 7:23:09 PM\",\"Building Pyramids...\",\"Calculating Statistics...\",\"Succeeded at Wednesday, April 19, 2023 7:23:50 PM (Elapsed Time: 40.84 seconds)\"]' data-show='true'><div id = 'default' /></div></div>"
      ],
      "text/plain": [
       "<Result 'C:\\\\gitFiles\\\\minnesota-bmsb-analysis\\\\data\\\\gdb\\\\bmsb_analysis.gdb\\\\landcover'>"
      ]
     },
     "execution_count": 29,
     "metadata": {},
     "output_type": "execute_result"
    }
   ],
   "source": [
    "# Load LC to GDB\n",
    "arcpy.management.CopyRaster(landcover_tiff, os.path.join(full_gdb_path, \"landcover\"))"
   ]
  },
  {
   "cell_type": "code",
   "execution_count": 30,
   "metadata": {},
   "outputs": [],
   "source": [
    "# Reclassify Landcover to Urban, Ag, Natural\n",
    "reclassified_lc = arcpy.sa.Reclassify(\n",
    "    in_raster=os.path.join(full_gdb_path, \"landcover\"),\n",
    "    reclass_field=\"NLCD_Land\",\n",
    "    remap=\"Unclassified NODATA;'Open Water' 3;'Developed, Open Space' 1;'Developed, Low Intensity' 1;'Developed, Medium Intensity' 1;'Developed, High Intensity' 1;'Barren Land' 3;'Deciduous Forest' 3;'Evergreen Forest' 3;'Mixed Forest' 3;Shrub/Scrub 3;Herbaceous 3;Hay/Pasture 2;'Cultivated Crops' 2;'Woody Wetlands' 3;'Emergent Herbaceous Wetlands' 3\",\n",
    "    missing_values=\"DATA\"\n",
    ")\n",
    "\n",
    "reclassified_lc.save(os.path.join(full_gdb_path, \"reclass_lc\"))"
   ]
  },
  {
   "attachments": {},
   "cell_type": "markdown",
   "metadata": {},
   "source": [
    "### Cities"
   ]
  },
  {
   "cell_type": "code",
   "execution_count": 31,
   "metadata": {},
   "outputs": [
    {
     "data": {
      "text/html": [
       "<div class='gpresult'><h2>Messages</h2><div id='messages' data-messages='[\"Start Time: Wednesday, April 19, 2023 7:32:27 PM\",\"Succeeded at Wednesday, April 19, 2023 7:32:28 PM (Elapsed Time: 0.49 seconds)\"]' data-show='true'><div id = 'default' /></div></div>"
      ],
      "text/plain": [
       "<Result 'C:\\\\gitFiles\\\\minnesota-bmsb-analysis\\\\data\\\\gdb\\\\bmsb_analysis.gdb\\\\cities'>"
      ]
     },
     "execution_count": 31,
     "metadata": {},
     "output_type": "execute_result"
    }
   ],
   "source": [
    "# Load Cities to GDB\n",
    "arcpy.conversion.ExportFeatures(\n",
    "    cities_shp,\n",
    "    os.path.join(full_gdb_path, \"cities\"),\n",
    "    where_clause=\"CTU_CLASS = 'CITY'\",\n",
    ")"
   ]
  }
 ],
 "metadata": {
  "kernelspec": {
   "display_name": "Python 3",
   "language": "python",
   "name": "python3"
  },
  "language_info": {
   "codemirror_mode": {
    "name": "ipython",
    "version": 3
   },
   "file_extension": ".py",
   "mimetype": "text/x-python",
   "name": "python",
   "nbconvert_exporter": "python",
   "pygments_lexer": "ipython3",
   "version": "3.9.16"
  },
  "orig_nbformat": 4
 },
 "nbformat": 4,
 "nbformat_minor": 2
}
